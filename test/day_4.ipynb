{
 "cells": [
  {
   "cell_type": "code",
   "execution_count": 28,
   "metadata": {},
   "outputs": [
    {
     "name": "stdout",
     "output_type": "stream",
     "text": [
      "71-71,42-72\n",
      "['71', '71']\n"
     ]
    }
   ],
   "source": [
    "with open(r\"C:\\Users\\DavidHeus\\Desktop\\adventofcode_2022\\Advent-of-code-2022\\data\\data_4.txt\",\"r\") as data:\n",
    "    read = data.readlines()\n",
    "    read = [i.replace(\"\\n\", \"\") for i in read]\n",
    "\n",
    "\n",
    "print(read[0])\n",
    "first = read[0].split(\",\")\n",
    "# seperate the string based on the comma.\n",
    "print(first[0].split(\"-\"))\n",
    "\n"
   ]
  }
 ],
 "metadata": {
  "kernelspec": {
   "display_name": "Python 3.11.0 64-bit",
   "language": "python",
   "name": "python3"
  },
  "language_info": {
   "codemirror_mode": {
    "name": "ipython",
    "version": 3
   },
   "file_extension": ".py",
   "mimetype": "text/x-python",
   "name": "python",
   "nbconvert_exporter": "python",
   "pygments_lexer": "ipython3",
   "version": "3.11.0"
  },
  "orig_nbformat": 4,
  "vscode": {
   "interpreter": {
    "hash": "ee498a643a30c76e1f947eb1a7b63964293c216d0c3af18c0e4f050df8c87e1d"
   }
  }
 },
 "nbformat": 4,
 "nbformat_minor": 2
}

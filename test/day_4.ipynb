{
 "cells": [
  {
   "cell_type": "code",
   "execution_count": 189,
   "metadata": {},
   "outputs": [],
   "source": [
    "import sys\n",
    "import pandas as pd\n",
    "# !{sys.executable} -m pip install numpy\n",
    "# !{sys.executable} -m pip install pandas"
   ]
  },
  {
   "cell_type": "code",
   "execution_count": 190,
   "metadata": {},
   "outputs": [
    {
     "name": "stdout",
     "output_type": "stream",
     "text": [
      "['71', '71']\n"
     ]
    }
   ],
   "source": [
    "with open(r\"data\\data_4.txt\",\"r\") as data:\n",
    "    read = data.readlines()\n",
    "    read = [i.replace(\"\\n\", \"\") for i in read]\n",
    "\n",
    "\n",
    "first = read[0].split(\",\")\n",
    "total = [x for x in read]\n",
    "# seperate the string based on the comma.\n",
    "first = first[0].split(\"-\")\n",
    "print(first)\n",
    "\n"
   ]
  },
  {
   "cell_type": "code",
   "execution_count": 191,
   "metadata": {},
   "outputs": [],
   "source": [
    "df = pd.DataFrame(total)\n",
    "df.rename(columns= {0:'first'}, inplace= True)\n",
    "df[['first','third']] = df['first'].str.split(',',expand=True)\n",
    "df[['first','second']] = df['first'].str.split('-',expand=True)\n",
    "df[['third','fourth']] = df['third'].str.split('-',expand=True)\n",
    "df = df.apply(pd.to_numeric)\n"
   ]
  },
  {
   "cell_type": "code",
   "execution_count": 192,
   "metadata": {},
   "outputs": [],
   "source": [
    "count_contains = 0\n",
    "count_contains2 = 0\n",
    "for index, row in df.iterrows():\n",
    "   if row[\"first\"] <= row[\"third\"] and row[\"second\"] >= row[\"fourth\"]:\n",
    "     count_contains += 1\n",
    "   elif row[\"first\"] >= row[\"third\"] and row[\"second\"] <= row[\"fourth\"]:\n",
    "      count_contains2 += 1\n",
    "\n",
    "count_total = count_contains + count_contains2"
   ]
  },
  {
   "cell_type": "code",
   "execution_count": 197,
   "metadata": {},
   "outputs": [
    {
     "name": "stdout",
     "output_type": "stream",
     "text": [
      "917\n"
     ]
    }
   ],
   "source": [
    "# Part 2\n",
    "t = 0\n",
    "for line in open(r\"data\\data_4.txt\",\"r\"):\n",
    "    a, b = line.split(\",\")\n",
    "    ar = [i for i in range(int(a.split('-')[0]), int(a.split('-')[1])+1)]\n",
    "    br = [i for i in range(int(b.split('-')[0]), int(b.split('-')[1])+1)]\n",
    "    if set(ar) & set(br):\n",
    "        t += 1\n",
    "\n",
    "print(t)"
   ]
  }
 ],
 "metadata": {
  "kernelspec": {
   "display_name": "Python 3.11.0 64-bit",
   "language": "python",
   "name": "python3"
  },
  "language_info": {
   "codemirror_mode": {
    "name": "ipython",
    "version": 3
   },
   "file_extension": ".py",
   "mimetype": "text/x-python",
   "name": "python",
   "nbconvert_exporter": "python",
   "pygments_lexer": "ipython3",
   "version": "3.11.0"
  },
  "orig_nbformat": 4,
  "vscode": {
   "interpreter": {
    "hash": "ee498a643a30c76e1f947eb1a7b63964293c216d0c3af18c0e4f050df8c87e1d"
   }
  }
 },
 "nbformat": 4,
 "nbformat_minor": 2
}
